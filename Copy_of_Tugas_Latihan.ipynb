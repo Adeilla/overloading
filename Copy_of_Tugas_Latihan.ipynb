{
  "nbformat": 4,
  "nbformat_minor": 0,
  "metadata": {
    "colab": {
      "provenance": [],
      "include_colab_link": true
    },
    "kernelspec": {
      "name": "python3",
      "display_name": "Python 3"
    },
    "language_info": {
      "name": "python"
    }
  },
  "cells": [
    {
      "cell_type": "markdown",
      "metadata": {
        "id": "view-in-github",
        "colab_type": "text"
      },
      "source": [
        "<a href=\"https://colab.research.google.com/github/Adeilla/overloading/blob/main/Copy_of_Tugas_Latihan.ipynb\" target=\"_parent\"><img src=\"https://colab.research.google.com/assets/colab-badge.svg\" alt=\"Open In Colab\"/></a>"
      ]
    },
    {
      "cell_type": "markdown",
      "source": [
        "Sebuah start-up GoPay merupakan perusahaan vintage yang menjadi alat pembayaran aplikasi marketplace dan lainnya. Anda seorang programmer yang ditugaskan untuk membuat aplikasi GoPay yang memiliki sebuah class bernama AkunGopay, yang memiliki atribut no_hp, nama dan saldo, dimana semua atribut bersifat private, demi keamanan.\n",
        "\n",
        "\n",
        "Pengguna bisa mendaftar akun GoPay dengan no_hp dan nama saja, namun juga bisa mendaftar dengan no_hp, nama dan saldo. Jika mendaftar dengan no_hp dan nama saja maka saldo otomatis bernilai 0.\n",
        "\n",
        "\n",
        "Class AkunGopay harus menyediakan fungsi yang dapat diakses oleh Marketplace untuk melakukan transaksi, yaitu :\n",
        "\n",
        "1.   topUp(), yang digunakan untuk menambahkan saldo\n",
        "2.   bayarTransaksi(), yang mengurangi saldo ketika melakukan transaksi\n",
        "3.   getSaldo(), untuk mengetahui jumlah saldo\n",
        "\n",
        "\n",
        "\n",
        "Teman Anda adalah seorang programer yang bekerja di sebuah start-up terkemuka Tokopedia yang bekerjasama dengan start-up keuangan GoPay. Anda ditugaskan membuat apikasi yang memiliki class AkunToped, dan memiliki atribut nama dan nomer_hp.\n",
        "\n",
        "Class AkunToped harus menyediakan fungsi yang untuk melakukan transaksi, yaitu:\n",
        "\n",
        "1. transaksi(), yang digunakan untuk mengurangi saldo Gopay dengan paramater nominal transaksi.\n",
        "2. getSaldo(), untuk mengetahui jumlah saldo Gopay.\n",
        "\n"
      ],
      "metadata": {
        "id": "NOQKwrfHB4pv"
      }
    },
    {
      "cell_type": "code",
      "execution_count": 23,
      "metadata": {
        "id": "peDTMz-5kxlh"
      },
      "outputs": [],
      "source": [
        "#Desain Class\n",
        "\n",
        "class akunGopay:\n",
        "  def __init__(self, no_hp, nama, saldo=0):\n",
        "      self.__no_hp = no_hp\n",
        "      self.__nama = nama\n",
        "      self.__saldo = saldo\n",
        "\n",
        "  def topUp(self, nominal_tranksaksi):\n",
        "    self.__saldo = self.__saldo + nominal_tranksaksi\n",
        "    print(\"top up berhasil! total saldo Rp.\", {self.__saldo})\n",
        "\n",
        "  def bayartranksaksi(self, nominal):\n",
        "    if nominal <= self.__saldo:\n",
        "      self.__saldo = self.__saldo - nominal\n",
        "      print(\"tranksaksi berhasil! saldo anda Rp.\", {self.__saldo})\n",
        "    else:\n",
        "      print(\"saldo anda tidak cukup!\")\n",
        "\n",
        "  def get_saldo(self):\n",
        "    return self.__saldo\n",
        "\n",
        "class akunToped:\n",
        "   def __init__(self, no_hp, nama, saldo=0):\n",
        "      self.__no_hp = no_hp\n",
        "      self.__nama = nama\n",
        "\n",
        "   def tranksaksi(self, gopay, nominal):\n",
        "    if nominal <= gopay.get_saldo():\n",
        "      gopay.bayartranksaksi(nominal)\n",
        "    else:\n",
        "      print(\"saldo anda tidak cukup!\")\n",
        "\n",
        "   def get_saldo(self, gopay):\n",
        "      print(\"saldo Toped anda Rp.\",{gopay.get_saldo()})\n"
      ]
    },
    {
      "cell_type": "code",
      "source": [
        "j = akunGopay(\"08189436005\", \"jila\", 100000)\n",
        "i = akunToped(\"08189436005\", \"jila\")\n",
        "\n",
        "j.topUp(1000)\n",
        "j.bayartranksaksi(20000)\n",
        "i.tranksaksi(j, 30000)\n",
        "i.get_saldo(j)\n",
        ""
      ],
      "metadata": {
        "colab": {
          "base_uri": "https://localhost:8080/"
        },
        "id": "dKBT2cXpHb4p",
        "outputId": "e3c80f24-d0b2-46b6-f132-21239934ac63"
      },
      "execution_count": 32,
      "outputs": [
        {
          "output_type": "stream",
          "name": "stdout",
          "text": [
            "top up berhasil! total saldo Rp. {101000}\n",
            "tranksaksi berhasil! saldo anda Rp. {81000}\n",
            "tranksaksi berhasil! saldo anda Rp. {51000}\n",
            "saldo Toped anda Rp. {51000}\n"
          ]
        }
      ]
    }
  ]
}