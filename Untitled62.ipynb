{
  "nbformat": 4,
  "nbformat_minor": 0,
  "metadata": {
    "colab": {
      "provenance": [],
      "authorship_tag": "ABX9TyPBeC6h4ZYP94L+Dgo+sAXB",
      "include_colab_link": true
    },
    "kernelspec": {
      "name": "python3",
      "display_name": "Python 3"
    },
    "language_info": {
      "name": "python"
    }
  },
  "cells": [
    {
      "cell_type": "markdown",
      "metadata": {
        "id": "view-in-github",
        "colab_type": "text"
      },
      "source": [
        "<a href=\"https://colab.research.google.com/github/Adeilla/overloading/blob/main/Untitled62.ipynb\" target=\"_parent\"><img src=\"https://colab.research.google.com/assets/colab-badge.svg\" alt=\"Open In Colab\"/></a>"
      ]
    },
    {
      "cell_type": "code",
      "execution_count": 4,
      "metadata": {
        "id": "XNIQezUlm6SI"
      },
      "outputs": [],
      "source": [
        "class Perkalian:\n",
        "  def hasil(self, *args):\n",
        "      kali = 2\n",
        "      for angka in args:\n",
        "        kali *= angka\n",
        "      print(kali)"
      ]
    },
    {
      "cell_type": "code",
      "source": [
        "coba = Perkalian()\n",
        "\n",
        "coba.hasil(2, 3)\n",
        "coba.hasil(2, 3, 5)\n",
        "coba.hasil(2, 3, 5, 6)"
      ],
      "metadata": {
        "colab": {
          "base_uri": "https://localhost:8080/"
        },
        "id": "Zvwa3RZoo4LB",
        "outputId": "fc45abe5-81f8-4180-cb6c-883dd2dbec10"
      },
      "execution_count": 5,
      "outputs": [
        {
          "output_type": "stream",
          "name": "stdout",
          "text": [
            "12\n",
            "60\n",
            "360\n"
          ]
        }
      ]
    }
  ]
}